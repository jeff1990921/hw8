{
  "nbformat": 4,
  "nbformat_minor": 0,
  "metadata": {
    "colab": {
      "name": "記帳.ipynb",
      "provenance": [],
      "collapsed_sections": []
    },
    "kernelspec": {
      "name": "python3",
      "display_name": "Python 3"
    }
  },
  "cells": [
    {
      "cell_type": "markdown",
      "metadata": {
        "id": "bpMpilz0yWzW",
        "colab_type": "text"
      },
      "source": [
        "簡易記帳程式"
      ]
    },
    {
      "cell_type": "code",
      "metadata": {
        "id": "DJZosUZqxyeC",
        "colab_type": "code",
        "outputId": "6f27b0af-fc0e-4c24-9e5d-8e5817f47bdb",
        "colab": {
          "base_uri": "https://localhost:8080/",
          "height": 136
        }
      },
      "source": [
        "total = 0\n",
        "while True:\n",
        "  inp = input('input:')\n",
        "  if inp == 'quit':\n",
        "    break\n",
        "  inp = inp.split()\n",
        "  if inp[0] == 'A':\n",
        "    total += int(inp[1])\n",
        "    print(f'{inp[1]} dollar saved, total is now {total}')\n",
        "  elif inp[0] == 'D':\n",
        "    total -= int(inp[1])\n",
        "    print(f'{inp[1]} dollar spent, total is now {total}')"
      ],
      "execution_count": 0,
      "outputs": [
        {
          "output_type": "stream",
          "text": [
            "input:A 10\n",
            "10 dollar saved, total is now 10\n",
            "input:A 38\n",
            "38 dollar saved, total is now 48\n",
            "input:D 25\n",
            "25 dollar spent, total is now 23\n",
            "input:quit\n"
          ],
          "name": "stdout"
        }
      ]
    }
  ]
}